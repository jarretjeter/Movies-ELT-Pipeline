{
 "cells": [
  {
   "cell_type": "code",
   "execution_count": 2,
   "metadata": {},
   "outputs": [],
   "source": [
    "# authenticate your kaggle api key\n",
    "from kaggle.api.kaggle_api_extended import KaggleApi\n",
    "api = KaggleApi()\n",
    "api.authenticate()"
   ]
  },
  {
   "cell_type": "code",
   "execution_count": 6,
   "metadata": {},
   "outputs": [],
   "source": [
    "# Extract\n",
    "\n",
    "api.dataset_download_files(\"yashgupta24/48000-movies-dataset\", \"./data/48000_movies/\", force=True, unzip=True)\n",
    "api.dataset_download_files(\"rounakbanik/the-movies-dataset\", \"./data/the-movies-dataset/\", force=True, unzip=True)"
   ]
  }
 ],
 "metadata": {
  "kernelspec": {
   "display_name": "Python 3.7.13 ('venv': venv)",
   "language": "python",
   "name": "python3"
  },
  "language_info": {
   "codemirror_mode": {
    "name": "ipython",
    "version": 3
   },
   "file_extension": ".py",
   "mimetype": "text/x-python",
   "name": "python",
   "nbconvert_exporter": "python",
   "pygments_lexer": "ipython3",
   "version": "3.7.13"
  },
  "orig_nbformat": 4,
  "vscode": {
   "interpreter": {
    "hash": "3e82778464eb8e4fb6b08126e63169f9c8abb926c2b3cb64cf030304056b61b2"
   }
  }
 },
 "nbformat": 4,
 "nbformat_minor": 2
}
