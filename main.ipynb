{
 "cells": [
  {
   "cell_type": "code",
   "execution_count": 1,
   "metadata": {},
   "outputs": [],
   "source": [
    "# authenticate your kaggle api key\n",
    "from kaggle.api.kaggle_api_extended import KaggleApi\n",
    "api = KaggleApi()\n",
    "api.authenticate()"
   ]
  },
  {
   "cell_type": "code",
   "execution_count": 2,
   "metadata": {},
   "outputs": [],
   "source": [
    "# Extract\n",
    "\n",
    "api.dataset_download_files(\"yashgupta24/48000-movies-dataset\", \"./data/48000-movies-dataset/\", force=True, unzip=True)"
   ]
  },
  {
   "cell_type": "code",
   "execution_count": 1,
   "metadata": {},
   "outputs": [],
   "source": [
    "import pandas as pd\n",
    "# movies_df = pd.read_csv(\"./data/48000-movies-dataset/final_data.csv\", header=0)\n",
    "# movies_df.head(5)\n",
    "# movies_df = movies_df.drop(\"ReviewBody\", axis=1)\n",
    "# movies_df.head(5)\n",
    "# movies_df.to_csv(\"./data/48000-movies-dataset/movies.csv\", index=False)"
   ]
  },
  {
   "cell_type": "code",
   "execution_count": 5,
   "metadata": {},
   "outputs": [
    {
     "name": "stderr",
     "output_type": "stream",
     "text": [
      "[INFO ][2022-07-15 09:46:40,075][1888686876:0020] : Creating dataset in project deb-01-346205...\n",
      "[INFO ][2022-07-15 09:46:40,614][1888686876:0023] : Dataset: deb-01-346205.48000_movies created\n",
      "[INFO ][2022-07-15 09:46:40,616][1888686876:0034] : Loading file: ./data/48000-movies-dataset/movies.csv to table: deb-01-346205.48000_movies.movies\n",
      "[INFO ][2022-07-15 09:47:06,907][1888686876:0040] : Loaded 48651 rows and 17 columns to deb-01-346205.48000_movies.movies\n"
     ]
    }
   ],
   "source": [
    "# Load\n",
    "from google.cloud import bigquery\n",
    "import logging\n",
    "from logging import INFO\n",
    "import os\n",
    "import sys\n",
    "\n",
    "\n",
    "# Setting up logger configuration to log back information.\n",
    "logging.basicConfig(format='[%(levelname)-5s][%(asctime)s][%(module)s:%(lineno)04d] : %(message)s',\n",
    "                    level=INFO,\n",
    "                    stream=sys.stderr)\n",
    "logger: logging.Logger = logging\n",
    "\n",
    "\n",
    "client = bigquery.Client()\n",
    "dataset_id = f\"{client.project}.48000_movies\"\n",
    "dataset = bigquery.Dataset(dataset_id)\n",
    "dataset.location = \"us-central1\"\n",
    "logger.info(f\"Creating dataset in project {client.project}...\")\n",
    "\n",
    "dataset = client.create_dataset(dataset, exists_ok=True, timeout=30)\n",
    "logger.info(f\"Dataset: {dataset_id} created\")\n",
    "\n",
    "table_id = \"deb-01-346205.48000_movies.movies\"\n",
    "file_path  = \"./data/48000-movies-dataset/movies.csv\"\n",
    "job_config = bigquery.LoadJobConfig(\n",
    "    source_format=bigquery.SourceFormat.CSV,\n",
    "    skip_leading_rows=1, \n",
    "    autodetect=True,\n",
    "    write_disposition=bigquery.WriteDisposition.WRITE_TRUNCATE\n",
    ")\n",
    "\n",
    "logger.info(f\"Loading file: {file_path} to table: {table_id}\")\n",
    "with open(file_path, \"rb\") as source_file:\n",
    "    job = client.load_table_from_file(source_file, table_id, job_config=job_config)\n",
    "    job.result()\n",
    "\n",
    "table = client.get_table(table_id)\n",
    "logger.info(f\"Loaded {table.num_rows} rows and {len(table.schema)} columns to {table_id}\")"
   ]
  }
 ],
 "metadata": {
  "kernelspec": {
   "display_name": "Python 3.7.13 ('venv': venv)",
   "language": "python",
   "name": "python3"
  },
  "language_info": {
   "codemirror_mode": {
    "name": "ipython",
    "version": 3
   },
   "file_extension": ".py",
   "mimetype": "text/x-python",
   "name": "python",
   "nbconvert_exporter": "python",
   "pygments_lexer": "ipython3",
   "version": "3.7.13"
  },
  "orig_nbformat": 4,
  "vscode": {
   "interpreter": {
    "hash": "3e82778464eb8e4fb6b08126e63169f9c8abb926c2b3cb64cf030304056b61b2"
   }
  }
 },
 "nbformat": 4,
 "nbformat_minor": 2
}
